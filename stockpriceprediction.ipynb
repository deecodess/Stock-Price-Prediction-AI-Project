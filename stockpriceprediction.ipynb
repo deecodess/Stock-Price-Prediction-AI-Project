{
  "nbformat": 4,
  "nbformat_minor": 0,
  "metadata": {
    "colab": {
      "provenance": []
    },
    "kernelspec": {
      "name": "python3",
      "display_name": "Python 3"
    },
    "language_info": {
      "name": "python"
    },
    "accelerator": "GPU",
    "gpuClass": "standard"
  },
  "cells": [
    {
      "cell_type": "markdown",
      "source": [
        "**importing libraries**"
      ],
      "metadata": {
        "id": "22aV_4uyrZWO"
      }
    },
    {
      "cell_type": "code",
      "source": [
        "! pip install yfinance\n"
      ],
      "metadata": {
        "id": "_lo64L2nr5pf"
      },
      "execution_count": null,
      "outputs": []
    },
    {
      "cell_type": "code",
      "source": [
        "! pip install finta"
      ],
      "metadata": {
        "id": "GO1-nnussJdK"
      },
      "execution_count": null,
      "outputs": []
    },
    {
      "cell_type": "code",
      "execution_count": 3,
      "metadata": {
        "id": "bnHeYTYSqYE5"
      },
      "outputs": [],
      "source": [
        " # required library\n",
        "import numpy as np \n",
        "import pandas as pd \n",
        "import matplotlib.pyplot as plt\n",
        "import warnings\n",
        "warnings.filterwarnings('ignore')\n",
        "import datetime \n",
        "\n",
        "import yfinance as yf \n",
        "from finta import TA"
      ]
    },
    {
      "cell_type": "code",
      "source": [
        "# defining the parameter to extract the data\n",
        "symbol= 'TSLA'\n",
        "num_days=16000\n",
        "INTERVAL ='1d'\n",
        "# extacting the start and end data\n",
        "start = str(datetime.date.today()-datetime.timedelta(num_days))\n",
        "end= str(datetime.date.today())\n",
        "print(\"start date \", start)\n",
        "print(\"end deate \", end)"
      ],
      "metadata": {
        "colab": {
          "base_uri": "https://localhost:8080/"
        },
        "id": "lzbKFzUjyDub",
        "outputId": "545d7452-eb07-45ae-d358-36bc885822fa"
      },
      "execution_count": 4,
      "outputs": [
        {
          "output_type": "stream",
          "name": "stdout",
          "text": [
            "start date  1979-05-08\n",
            "end deate  2023-02-26\n"
          ]
        }
      ]
    },
    {
      "cell_type": "code",
      "source": [
        "# extract the data \n",
        "obj = yf.Ticker(symbol)\n",
        "data=obj.history(interval=INTERVAL, start=start,end=end)\n",
        "data.head()"
      ],
      "metadata": {
        "colab": {
          "base_uri": "https://localhost:8080/",
          "height": 238
        },
        "id": "boX4WhNe0cOv",
        "outputId": "876d6497-d73d-454f-b167-92a941693bfd"
      },
      "execution_count": 5,
      "outputs": [
        {
          "output_type": "execute_result",
          "data": {
            "text/plain": [
              "                               Open      High       Low     Close     Volume  \\\n",
              "Date                                                                           \n",
              "2010-06-29 00:00:00-04:00  1.266667  1.666667  1.169333  1.592667  281494500   \n",
              "2010-06-30 00:00:00-04:00  1.719333  2.028000  1.553333  1.588667  257806500   \n",
              "2010-07-01 00:00:00-04:00  1.666667  1.728000  1.351333  1.464000  123282000   \n",
              "2010-07-02 00:00:00-04:00  1.533333  1.540000  1.247333  1.280000   77097000   \n",
              "2010-07-06 00:00:00-04:00  1.333333  1.333333  1.055333  1.074000  103003500   \n",
              "\n",
              "                           Dividends  Stock Splits  \n",
              "Date                                                \n",
              "2010-06-29 00:00:00-04:00        0.0           0.0  \n",
              "2010-06-30 00:00:00-04:00        0.0           0.0  \n",
              "2010-07-01 00:00:00-04:00        0.0           0.0  \n",
              "2010-07-02 00:00:00-04:00        0.0           0.0  \n",
              "2010-07-06 00:00:00-04:00        0.0           0.0  "
            ],
            "text/html": [
              "\n",
              "  <div id=\"df-9cdd5bf7-91d3-459b-aa46-14c6f853b5d2\">\n",
              "    <div class=\"colab-df-container\">\n",
              "      <div>\n",
              "<style scoped>\n",
              "    .dataframe tbody tr th:only-of-type {\n",
              "        vertical-align: middle;\n",
              "    }\n",
              "\n",
              "    .dataframe tbody tr th {\n",
              "        vertical-align: top;\n",
              "    }\n",
              "\n",
              "    .dataframe thead th {\n",
              "        text-align: right;\n",
              "    }\n",
              "</style>\n",
              "<table border=\"1\" class=\"dataframe\">\n",
              "  <thead>\n",
              "    <tr style=\"text-align: right;\">\n",
              "      <th></th>\n",
              "      <th>Open</th>\n",
              "      <th>High</th>\n",
              "      <th>Low</th>\n",
              "      <th>Close</th>\n",
              "      <th>Volume</th>\n",
              "      <th>Dividends</th>\n",
              "      <th>Stock Splits</th>\n",
              "    </tr>\n",
              "    <tr>\n",
              "      <th>Date</th>\n",
              "      <th></th>\n",
              "      <th></th>\n",
              "      <th></th>\n",
              "      <th></th>\n",
              "      <th></th>\n",
              "      <th></th>\n",
              "      <th></th>\n",
              "    </tr>\n",
              "  </thead>\n",
              "  <tbody>\n",
              "    <tr>\n",
              "      <th>2010-06-29 00:00:00-04:00</th>\n",
              "      <td>1.266667</td>\n",
              "      <td>1.666667</td>\n",
              "      <td>1.169333</td>\n",
              "      <td>1.592667</td>\n",
              "      <td>281494500</td>\n",
              "      <td>0.0</td>\n",
              "      <td>0.0</td>\n",
              "    </tr>\n",
              "    <tr>\n",
              "      <th>2010-06-30 00:00:00-04:00</th>\n",
              "      <td>1.719333</td>\n",
              "      <td>2.028000</td>\n",
              "      <td>1.553333</td>\n",
              "      <td>1.588667</td>\n",
              "      <td>257806500</td>\n",
              "      <td>0.0</td>\n",
              "      <td>0.0</td>\n",
              "    </tr>\n",
              "    <tr>\n",
              "      <th>2010-07-01 00:00:00-04:00</th>\n",
              "      <td>1.666667</td>\n",
              "      <td>1.728000</td>\n",
              "      <td>1.351333</td>\n",
              "      <td>1.464000</td>\n",
              "      <td>123282000</td>\n",
              "      <td>0.0</td>\n",
              "      <td>0.0</td>\n",
              "    </tr>\n",
              "    <tr>\n",
              "      <th>2010-07-02 00:00:00-04:00</th>\n",
              "      <td>1.533333</td>\n",
              "      <td>1.540000</td>\n",
              "      <td>1.247333</td>\n",
              "      <td>1.280000</td>\n",
              "      <td>77097000</td>\n",
              "      <td>0.0</td>\n",
              "      <td>0.0</td>\n",
              "    </tr>\n",
              "    <tr>\n",
              "      <th>2010-07-06 00:00:00-04:00</th>\n",
              "      <td>1.333333</td>\n",
              "      <td>1.333333</td>\n",
              "      <td>1.055333</td>\n",
              "      <td>1.074000</td>\n",
              "      <td>103003500</td>\n",
              "      <td>0.0</td>\n",
              "      <td>0.0</td>\n",
              "    </tr>\n",
              "  </tbody>\n",
              "</table>\n",
              "</div>\n",
              "      <button class=\"colab-df-convert\" onclick=\"convertToInteractive('df-9cdd5bf7-91d3-459b-aa46-14c6f853b5d2')\"\n",
              "              title=\"Convert this dataframe to an interactive table.\"\n",
              "              style=\"display:none;\">\n",
              "        \n",
              "  <svg xmlns=\"http://www.w3.org/2000/svg\" height=\"24px\"viewBox=\"0 0 24 24\"\n",
              "       width=\"24px\">\n",
              "    <path d=\"M0 0h24v24H0V0z\" fill=\"none\"/>\n",
              "    <path d=\"M18.56 5.44l.94 2.06.94-2.06 2.06-.94-2.06-.94-.94-2.06-.94 2.06-2.06.94zm-11 1L8.5 8.5l.94-2.06 2.06-.94-2.06-.94L8.5 2.5l-.94 2.06-2.06.94zm10 10l.94 2.06.94-2.06 2.06-.94-2.06-.94-.94-2.06-.94 2.06-2.06.94z\"/><path d=\"M17.41 7.96l-1.37-1.37c-.4-.4-.92-.59-1.43-.59-.52 0-1.04.2-1.43.59L10.3 9.45l-7.72 7.72c-.78.78-.78 2.05 0 2.83L4 21.41c.39.39.9.59 1.41.59.51 0 1.02-.2 1.41-.59l7.78-7.78 2.81-2.81c.8-.78.8-2.07 0-2.86zM5.41 20L4 18.59l7.72-7.72 1.47 1.35L5.41 20z\"/>\n",
              "  </svg>\n",
              "      </button>\n",
              "      \n",
              "  <style>\n",
              "    .colab-df-container {\n",
              "      display:flex;\n",
              "      flex-wrap:wrap;\n",
              "      gap: 12px;\n",
              "    }\n",
              "\n",
              "    .colab-df-convert {\n",
              "      background-color: #E8F0FE;\n",
              "      border: none;\n",
              "      border-radius: 50%;\n",
              "      cursor: pointer;\n",
              "      display: none;\n",
              "      fill: #1967D2;\n",
              "      height: 32px;\n",
              "      padding: 0 0 0 0;\n",
              "      width: 32px;\n",
              "    }\n",
              "\n",
              "    .colab-df-convert:hover {\n",
              "      background-color: #E2EBFA;\n",
              "      box-shadow: 0px 1px 2px rgba(60, 64, 67, 0.3), 0px 1px 3px 1px rgba(60, 64, 67, 0.15);\n",
              "      fill: #174EA6;\n",
              "    }\n",
              "\n",
              "    [theme=dark] .colab-df-convert {\n",
              "      background-color: #3B4455;\n",
              "      fill: #D2E3FC;\n",
              "    }\n",
              "\n",
              "    [theme=dark] .colab-df-convert:hover {\n",
              "      background-color: #434B5C;\n",
              "      box-shadow: 0px 1px 3px 1px rgba(0, 0, 0, 0.15);\n",
              "      filter: drop-shadow(0px 1px 2px rgba(0, 0, 0, 0.3));\n",
              "      fill: #FFFFFF;\n",
              "    }\n",
              "  </style>\n",
              "\n",
              "      <script>\n",
              "        const buttonEl =\n",
              "          document.querySelector('#df-9cdd5bf7-91d3-459b-aa46-14c6f853b5d2 button.colab-df-convert');\n",
              "        buttonEl.style.display =\n",
              "          google.colab.kernel.accessAllowed ? 'block' : 'none';\n",
              "\n",
              "        async function convertToInteractive(key) {\n",
              "          const element = document.querySelector('#df-9cdd5bf7-91d3-459b-aa46-14c6f853b5d2');\n",
              "          const dataTable =\n",
              "            await google.colab.kernel.invokeFunction('convertToInteractive',\n",
              "                                                     [key], {});\n",
              "          if (!dataTable) return;\n",
              "\n",
              "          const docLinkHtml = 'Like what you see? Visit the ' +\n",
              "            '<a target=\"_blank\" href=https://colab.research.google.com/notebooks/data_table.ipynb>data table notebook</a>'\n",
              "            + ' to learn more about interactive tables.';\n",
              "          element.innerHTML = '';\n",
              "          dataTable['output_type'] = 'display_data';\n",
              "          await google.colab.output.renderOutput(dataTable, element);\n",
              "          const docLink = document.createElement('div');\n",
              "          docLink.innerHTML = docLinkHtml;\n",
              "          element.appendChild(docLink);\n",
              "        }\n",
              "      </script>\n",
              "    </div>\n",
              "  </div>\n",
              "  "
            ]
          },
          "metadata": {},
          "execution_count": 5
        }
      ]
    },
    {
      "cell_type": "code",
      "source": [
        "# save the data in files \n",
        "data.to_csv('abc.csv',index=False)"
      ],
      "metadata": {
        "id": "2W1m-KtL1Sqv"
      },
      "execution_count": 6,
      "outputs": []
    },
    {
      "cell_type": "code",
      "source": [
        "data.info()"
      ],
      "metadata": {
        "colab": {
          "base_uri": "https://localhost:8080/"
        },
        "id": "cW1tYPiIEeFq",
        "outputId": "19e40c11-cc5f-4d5b-c87b-236447df706d"
      },
      "execution_count": 7,
      "outputs": [
        {
          "output_type": "stream",
          "name": "stdout",
          "text": [
            "<class 'pandas.core.frame.DataFrame'>\n",
            "DatetimeIndex: 3187 entries, 2010-06-29 00:00:00-04:00 to 2023-02-24 00:00:00-05:00\n",
            "Data columns (total 7 columns):\n",
            " #   Column        Non-Null Count  Dtype  \n",
            "---  ------        --------------  -----  \n",
            " 0   Open          3187 non-null   float64\n",
            " 1   High          3187 non-null   float64\n",
            " 2   Low           3187 non-null   float64\n",
            " 3   Close         3187 non-null   float64\n",
            " 4   Volume        3187 non-null   int64  \n",
            " 5   Dividends     3187 non-null   float64\n",
            " 6   Stock Splits  3187 non-null   float64\n",
            "dtypes: float64(6), int64(1)\n",
            "memory usage: 328.2 KB\n"
          ]
        }
      ]
    },
    {
      "cell_type": "code",
      "source": [
        "# remove the unrequired parameters \n",
        "data.drop(['Dividends','Stock Splits'], axis=1,inplace=True)"
      ],
      "metadata": {
        "id": "8sC_YEhZ2O4n"
      },
      "execution_count": 8,
      "outputs": []
    },
    {
      "cell_type": "code",
      "source": [
        "data.rename(columns={\"Open\":\"open\",\"High\":\"high\",\"Low\":\"low\",\"Close\":\"close\",\"Volume\":\"volume\"}, inplace=True)"
      ],
      "metadata": {
        "id": "BsuUGvky2O21"
      },
      "execution_count": 9,
      "outputs": []
    },
    {
      "cell_type": "markdown",
      "source": [
        "# Feature engineering "
      ],
      "metadata": {
        "id": "ufQgbdCvlSEG"
      }
    },
    {
      "cell_type": "markdown",
      "source": [
        "- **RSI (Relative Strength Index):** It is a momentum indicator that compares the magnitude of recent gains to recent losses in an attempt to determine overbought and oversold conditions of an asset.\n",
        "\n",
        "- **MACD (Moving Average Convergence Divergence):** It is a trend-following momentum indicator that shows the relationship between two moving averages of a security's price.\n",
        "\n",
        "- **STOCH (Stochastic Oscillator):** A momentum indicator that compares a stock's closing price to its price range over a given period of time. It is used to identify overbought or oversold conditions.\n",
        "\n",
        "- **ADL (Accumulation/Distribution Line):** A momentum indicator that uses volume flow to assess the buying and selling pressure of a security.\n",
        "\n",
        "- **ATR (Average True Range):** A volatility indicator that measures the range between the high and low prices of a security over a given period of time.\n",
        "\n",
        "- **MOM (Momentum Indicator):** A momentum indicator that compares the current closing price of a security to its closing price \"n\" periods ago.\n",
        "\n",
        "- **MFI (Money Flow Index):** A momentum indicator that uses both price and volume to measure buying and selling pressure.\n",
        "\n",
        "- **ROC (Rate of Change):** A momentum indicator that measures the percentage change in price over a specified period of time.\n",
        "\n",
        "- **OBV (On-Balance Volume):** A momentum indicator that uses volume to assess the buying and selling pressure of a security.\n",
        "\n",
        "- **CCI (Commodity Channel Index):** A momentum indicator that measures the deviation of an asset's price from its statistical mean.\n",
        "\n",
        "- **EMV (Ease of Movement):** A volume-based indicator that is used to assess the relationship between price and volume."
      ],
      "metadata": {
        "id": "eq8ZWakhlYDz"
      }
    },
    {
      "cell_type": "code",
      "source": [
        "# list of symbol of technical indicators\n",
        "INDICATORS = ['RSI', 'MACD', 'STOCH','ADL', 'ATR', 'MOM', 'MFI', 'ROC', 'OBV', 'CCI', 'EMV']"
      ],
      "metadata": {
        "id": "YRSL9jYq2OtQ"
      },
      "execution_count": 13,
      "outputs": []
    },
    {
      "cell_type": "markdown",
      "source": [
        "ewm -> Exponential smoothing is a commonly used method in time series forecasting because it can effectively capture both the short-term and long-term patterns in the data. The method works by applying a weighted average to the past observations, with more recent observations given more weight and older observations given less weight. This allows the model to capture the more recent variations in the data while also taking into account the overall trend or seasonality of the time series."
      ],
      "metadata": {
        "id": "pvggj9O8kv2i"
      }
    },
    {
      "cell_type": "code",
      "source": [
        "def indicator_data(data):\n",
        "  for indicator in INDICATORS:\n",
        "     # generate the indicator information for the data and\n",
        "        # add the parameters with the original data\n",
        "    ind_data= eval('TA.'+ indicator +'(data)')\n",
        "    if not isinstance(ind_data,pd.DataFrame):\n",
        "      ind_data=ind_data.to_frame()\n",
        "    data=data.merge(ind_data,left_index=True,right_index=True)\n",
        "  # calculating moving average for features \n",
        "  data['ema50'] = data['close'] / data['close'].ewm(50).mean()\n",
        "  data['ema21'] = data['close'] / data['close'].ewm(21).mean()\n",
        "  data['ema15'] = data['close'] / data['close'].ewm(14).mean()\n",
        "  data['ema5'] = data['close'] / data['close'].ewm(5).mean()\n",
        "\n",
        "  #del (data['open'])\n",
        "  #del (data['high'])\n",
        "  #del (data['low'])\n",
        "  #del (data['volume'])\n",
        "  return data\n",
        "    "
      ],
      "metadata": {
        "id": "Lli_h6o42Opv"
      },
      "execution_count": 14,
      "outputs": []
    },
    {
      "cell_type": "code",
      "source": [
        "data=indicator_data(data)\n",
        "data.columns"
      ],
      "metadata": {
        "colab": {
          "base_uri": "https://localhost:8080/"
        },
        "id": "xF4LJolW2On_",
        "outputId": "29eb137c-1639-40d6-da71-32aa1ee03d89"
      },
      "execution_count": 15,
      "outputs": [
        {
          "output_type": "execute_result",
          "data": {
            "text/plain": [
              "Index(['open', 'high', 'low', 'close', 'volume', '14 period RSI', 'MACD',\n",
              "       'SIGNAL', '14 period STOCH %K', 'MFV', '14 period ATR', 'MOM',\n",
              "       '14 period MFI', 'ROC', 'OBV', '20 period CCI', '14 period EMV.',\n",
              "       'ema50', 'ema21', 'ema15', 'ema5'],\n",
              "      dtype='object')"
            ]
          },
          "metadata": {},
          "execution_count": 15
        }
      ]
    },
    {
      "cell_type": "markdown",
      "source": [
        "# Prepare the prediction parameter\n"
      ],
      "metadata": {
        "id": "3ddwwAgK-46M"
      }
    },
    {
      "cell_type": "code",
      "source": [
        "def prepare_predictionn(data,window):\n",
        "  \n",
        "    # compare the closing price of the share on the given data\n",
        "    # with the price of the share on the window\n",
        "  prediction= (data.shift(-window)['close']>= data['close'])\n",
        "  prediction= prediction.iloc[:-window]\n",
        "  data['pred']=prediction.astype(int)\n",
        "  del (data['close'])\n",
        "  return data"
      ],
      "metadata": {
        "id": "a_AT9MTY2Ok-"
      },
      "execution_count": 16,
      "outputs": []
    },
    {
      "cell_type": "code",
      "source": [
        "data= prepare_predictionn(data, window=25)\n",
        "# Remove the data parameter with null values\n",
        "data=data.dropna()\n",
        "data.tail()"
      ],
      "metadata": {
        "id": "4lfuIDG32OjG",
        "colab": {
          "base_uri": "https://localhost:8080/",
          "height": 626
        },
        "outputId": "b6a4d1b8-2978-43e7-c79e-9c3de04a5885"
      },
      "execution_count": 17,
      "outputs": [
        {
          "output_type": "execute_result",
          "data": {
            "text/plain": [
              "                                 open        high         low        volume  \\\n",
              "Date                                                                          \n",
              "2023-01-12 00:00:00-05:00  122.160293  124.332364  117.498634  1.729972e+08   \n",
              "2023-01-13 00:00:00-05:00  118.233090  123.140707  116.169589  1.782067e+08   \n",
              "2023-01-17 00:00:00-05:00  123.459925  129.132210  122.364874  1.839959e+08   \n",
              "2023-01-18 00:00:00-05:00  132.629976  134.415658  125.616464  1.921750e+08   \n",
              "2023-01-19 00:00:00-05:00  128.870994  131.317701  124.701937  1.768568e+08   \n",
              "\n",
              "                           14 period RSI       MACD     SIGNAL  \\\n",
              "Date                                                             \n",
              "2023-01-12 00:00:00-05:00      35.734139 -14.654251 -17.073084   \n",
              "2023-01-13 00:00:00-05:00      35.433069 -13.531061 -16.364679   \n",
              "2023-01-17 00:00:00-05:00      42.762490 -11.999845 -15.491712   \n",
              "2023-01-18 00:00:00-05:00      42.739147 -10.665645 -14.526499   \n",
              "2023-01-19 00:00:00-05:00      41.738385  -9.589354 -13.539070   \n",
              "\n",
              "                           14 period STOCH %K           MFV  14 period ATR  \\\n",
              "Date                                                                         \n",
              "2023-01-12 00:00:00-05:00           55.194152  1.197116e+10       8.807547   \n",
              "2023-01-13 00:00:00-05:00           67.703864  1.212117e+10       8.439222   \n",
              "2023-01-17 00:00:00-05:00           98.781958  1.228817e+10       8.282724   \n",
              "2023-01-18 00:00:00-05:00           81.820712  1.223470e+10       8.049484   \n",
              "2023-01-19 00:00:00-05:00           78.150571  1.221582e+10       7.899300   \n",
              "\n",
              "                           ...  14 period MFI        ROC           OBV  \\\n",
              "Date                       ...                                           \n",
              "2023-01-12 00:00:00-05:00  ...      35.809994  -1.591476  3.240974e+10   \n",
              "2023-01-13 00:00:00-05:00  ...      36.235102   7.651387  3.223153e+10   \n",
              "2023-01-17 00:00:00-05:00  ...      43.529187  13.939464  3.241553e+10   \n",
              "2023-01-18 00:00:00-05:00  ...      51.188157   8.054218  3.222335e+10   \n",
              "2023-01-19 00:00:00-05:00  ...      51.472465   4.650620  3.204649e+10   \n",
              "\n",
              "                           20 period CCI  14 period EMV.     ema50     ema21  \\\n",
              "Date                                                                           \n",
              "2023-01-12 00:00:00-05:00     -30.521399       -0.096050  0.631880  0.797915   \n",
              "2023-01-13 00:00:00-05:00     -30.041271       -0.063747  0.634218  0.802528   \n",
              "2023-01-17 00:00:00-05:00      13.594652       -0.027137  0.670840  0.849366   \n",
              "2023-01-18 00:00:00-05:00      47.613956        0.020681  0.675053  0.855044   \n",
              "2023-01-19 00:00:00-05:00      53.053257        0.027249  0.673472  0.853422   \n",
              "\n",
              "                              ema15      ema5  pred  \n",
              "Date                                                 \n",
              "2023-01-12 00:00:00-05:00  0.878750  1.014063   1.0  \n",
              "2023-01-13 00:00:00-05:00  0.882919  1.008672   1.0  \n",
              "2023-01-17 00:00:00-05:00  0.932281  1.049454   1.0  \n",
              "2023-01-18 00:00:00-05:00  0.936319  1.040689   1.0  \n",
              "2023-01-19 00:00:00-05:00  0.932537  1.026125   1.0  \n",
              "\n",
              "[5 rows x 21 columns]"
            ],
            "text/html": [
              "\n",
              "  <div id=\"df-300d12fc-ebcc-4cbc-b9d8-607dd47b8273\">\n",
              "    <div class=\"colab-df-container\">\n",
              "      <div>\n",
              "<style scoped>\n",
              "    .dataframe tbody tr th:only-of-type {\n",
              "        vertical-align: middle;\n",
              "    }\n",
              "\n",
              "    .dataframe tbody tr th {\n",
              "        vertical-align: top;\n",
              "    }\n",
              "\n",
              "    .dataframe thead th {\n",
              "        text-align: right;\n",
              "    }\n",
              "</style>\n",
              "<table border=\"1\" class=\"dataframe\">\n",
              "  <thead>\n",
              "    <tr style=\"text-align: right;\">\n",
              "      <th></th>\n",
              "      <th>open</th>\n",
              "      <th>high</th>\n",
              "      <th>low</th>\n",
              "      <th>volume</th>\n",
              "      <th>14 period RSI</th>\n",
              "      <th>MACD</th>\n",
              "      <th>SIGNAL</th>\n",
              "      <th>14 period STOCH %K</th>\n",
              "      <th>MFV</th>\n",
              "      <th>14 period ATR</th>\n",
              "      <th>...</th>\n",
              "      <th>14 period MFI</th>\n",
              "      <th>ROC</th>\n",
              "      <th>OBV</th>\n",
              "      <th>20 period CCI</th>\n",
              "      <th>14 period EMV.</th>\n",
              "      <th>ema50</th>\n",
              "      <th>ema21</th>\n",
              "      <th>ema15</th>\n",
              "      <th>ema5</th>\n",
              "      <th>pred</th>\n",
              "    </tr>\n",
              "    <tr>\n",
              "      <th>Date</th>\n",
              "      <th></th>\n",
              "      <th></th>\n",
              "      <th></th>\n",
              "      <th></th>\n",
              "      <th></th>\n",
              "      <th></th>\n",
              "      <th></th>\n",
              "      <th></th>\n",
              "      <th></th>\n",
              "      <th></th>\n",
              "      <th></th>\n",
              "      <th></th>\n",
              "      <th></th>\n",
              "      <th></th>\n",
              "      <th></th>\n",
              "      <th></th>\n",
              "      <th></th>\n",
              "      <th></th>\n",
              "      <th></th>\n",
              "      <th></th>\n",
              "      <th></th>\n",
              "    </tr>\n",
              "  </thead>\n",
              "  <tbody>\n",
              "    <tr>\n",
              "      <th>2023-01-12 00:00:00-05:00</th>\n",
              "      <td>122.160293</td>\n",
              "      <td>124.332364</td>\n",
              "      <td>117.498634</td>\n",
              "      <td>1.729972e+08</td>\n",
              "      <td>35.734139</td>\n",
              "      <td>-14.654251</td>\n",
              "      <td>-17.073084</td>\n",
              "      <td>55.194152</td>\n",
              "      <td>1.197116e+10</td>\n",
              "      <td>8.807547</td>\n",
              "      <td>...</td>\n",
              "      <td>35.809994</td>\n",
              "      <td>-1.591476</td>\n",
              "      <td>3.240974e+10</td>\n",
              "      <td>-30.521399</td>\n",
              "      <td>-0.096050</td>\n",
              "      <td>0.631880</td>\n",
              "      <td>0.797915</td>\n",
              "      <td>0.878750</td>\n",
              "      <td>1.014063</td>\n",
              "      <td>1.0</td>\n",
              "    </tr>\n",
              "    <tr>\n",
              "      <th>2023-01-13 00:00:00-05:00</th>\n",
              "      <td>118.233090</td>\n",
              "      <td>123.140707</td>\n",
              "      <td>116.169589</td>\n",
              "      <td>1.782067e+08</td>\n",
              "      <td>35.433069</td>\n",
              "      <td>-13.531061</td>\n",
              "      <td>-16.364679</td>\n",
              "      <td>67.703864</td>\n",
              "      <td>1.212117e+10</td>\n",
              "      <td>8.439222</td>\n",
              "      <td>...</td>\n",
              "      <td>36.235102</td>\n",
              "      <td>7.651387</td>\n",
              "      <td>3.223153e+10</td>\n",
              "      <td>-30.041271</td>\n",
              "      <td>-0.063747</td>\n",
              "      <td>0.634218</td>\n",
              "      <td>0.802528</td>\n",
              "      <td>0.882919</td>\n",
              "      <td>1.008672</td>\n",
              "      <td>1.0</td>\n",
              "    </tr>\n",
              "    <tr>\n",
              "      <th>2023-01-17 00:00:00-05:00</th>\n",
              "      <td>123.459925</td>\n",
              "      <td>129.132210</td>\n",
              "      <td>122.364874</td>\n",
              "      <td>1.839959e+08</td>\n",
              "      <td>42.762490</td>\n",
              "      <td>-11.999845</td>\n",
              "      <td>-15.491712</td>\n",
              "      <td>98.781958</td>\n",
              "      <td>1.228817e+10</td>\n",
              "      <td>8.282724</td>\n",
              "      <td>...</td>\n",
              "      <td>43.529187</td>\n",
              "      <td>13.939464</td>\n",
              "      <td>3.241553e+10</td>\n",
              "      <td>13.594652</td>\n",
              "      <td>-0.027137</td>\n",
              "      <td>0.670840</td>\n",
              "      <td>0.849366</td>\n",
              "      <td>0.932281</td>\n",
              "      <td>1.049454</td>\n",
              "      <td>1.0</td>\n",
              "    </tr>\n",
              "    <tr>\n",
              "      <th>2023-01-18 00:00:00-05:00</th>\n",
              "      <td>132.629976</td>\n",
              "      <td>134.415658</td>\n",
              "      <td>125.616464</td>\n",
              "      <td>1.921750e+08</td>\n",
              "      <td>42.739147</td>\n",
              "      <td>-10.665645</td>\n",
              "      <td>-14.526499</td>\n",
              "      <td>81.820712</td>\n",
              "      <td>1.223470e+10</td>\n",
              "      <td>8.049484</td>\n",
              "      <td>...</td>\n",
              "      <td>51.188157</td>\n",
              "      <td>8.054218</td>\n",
              "      <td>3.222335e+10</td>\n",
              "      <td>47.613956</td>\n",
              "      <td>0.020681</td>\n",
              "      <td>0.675053</td>\n",
              "      <td>0.855044</td>\n",
              "      <td>0.936319</td>\n",
              "      <td>1.040689</td>\n",
              "      <td>1.0</td>\n",
              "    </tr>\n",
              "    <tr>\n",
              "      <th>2023-01-19 00:00:00-05:00</th>\n",
              "      <td>128.870994</td>\n",
              "      <td>131.317701</td>\n",
              "      <td>124.701937</td>\n",
              "      <td>1.768568e+08</td>\n",
              "      <td>41.738385</td>\n",
              "      <td>-9.589354</td>\n",
              "      <td>-13.539070</td>\n",
              "      <td>78.150571</td>\n",
              "      <td>1.221582e+10</td>\n",
              "      <td>7.899300</td>\n",
              "      <td>...</td>\n",
              "      <td>51.472465</td>\n",
              "      <td>4.650620</td>\n",
              "      <td>3.204649e+10</td>\n",
              "      <td>53.053257</td>\n",
              "      <td>0.027249</td>\n",
              "      <td>0.673472</td>\n",
              "      <td>0.853422</td>\n",
              "      <td>0.932537</td>\n",
              "      <td>1.026125</td>\n",
              "      <td>1.0</td>\n",
              "    </tr>\n",
              "  </tbody>\n",
              "</table>\n",
              "<p>5 rows × 21 columns</p>\n",
              "</div>\n",
              "      <button class=\"colab-df-convert\" onclick=\"convertToInteractive('df-300d12fc-ebcc-4cbc-b9d8-607dd47b8273')\"\n",
              "              title=\"Convert this dataframe to an interactive table.\"\n",
              "              style=\"display:none;\">\n",
              "        \n",
              "  <svg xmlns=\"http://www.w3.org/2000/svg\" height=\"24px\"viewBox=\"0 0 24 24\"\n",
              "       width=\"24px\">\n",
              "    <path d=\"M0 0h24v24H0V0z\" fill=\"none\"/>\n",
              "    <path d=\"M18.56 5.44l.94 2.06.94-2.06 2.06-.94-2.06-.94-.94-2.06-.94 2.06-2.06.94zm-11 1L8.5 8.5l.94-2.06 2.06-.94-2.06-.94L8.5 2.5l-.94 2.06-2.06.94zm10 10l.94 2.06.94-2.06 2.06-.94-2.06-.94-.94-2.06-.94 2.06-2.06.94z\"/><path d=\"M17.41 7.96l-1.37-1.37c-.4-.4-.92-.59-1.43-.59-.52 0-1.04.2-1.43.59L10.3 9.45l-7.72 7.72c-.78.78-.78 2.05 0 2.83L4 21.41c.39.39.9.59 1.41.59.51 0 1.02-.2 1.41-.59l7.78-7.78 2.81-2.81c.8-.78.8-2.07 0-2.86zM5.41 20L4 18.59l7.72-7.72 1.47 1.35L5.41 20z\"/>\n",
              "  </svg>\n",
              "      </button>\n",
              "      \n",
              "  <style>\n",
              "    .colab-df-container {\n",
              "      display:flex;\n",
              "      flex-wrap:wrap;\n",
              "      gap: 12px;\n",
              "    }\n",
              "\n",
              "    .colab-df-convert {\n",
              "      background-color: #E8F0FE;\n",
              "      border: none;\n",
              "      border-radius: 50%;\n",
              "      cursor: pointer;\n",
              "      display: none;\n",
              "      fill: #1967D2;\n",
              "      height: 32px;\n",
              "      padding: 0 0 0 0;\n",
              "      width: 32px;\n",
              "    }\n",
              "\n",
              "    .colab-df-convert:hover {\n",
              "      background-color: #E2EBFA;\n",
              "      box-shadow: 0px 1px 2px rgba(60, 64, 67, 0.3), 0px 1px 3px 1px rgba(60, 64, 67, 0.15);\n",
              "      fill: #174EA6;\n",
              "    }\n",
              "\n",
              "    [theme=dark] .colab-df-convert {\n",
              "      background-color: #3B4455;\n",
              "      fill: #D2E3FC;\n",
              "    }\n",
              "\n",
              "    [theme=dark] .colab-df-convert:hover {\n",
              "      background-color: #434B5C;\n",
              "      box-shadow: 0px 1px 3px 1px rgba(0, 0, 0, 0.15);\n",
              "      filter: drop-shadow(0px 1px 2px rgba(0, 0, 0, 0.3));\n",
              "      fill: #FFFFFF;\n",
              "    }\n",
              "  </style>\n",
              "\n",
              "      <script>\n",
              "        const buttonEl =\n",
              "          document.querySelector('#df-300d12fc-ebcc-4cbc-b9d8-607dd47b8273 button.colab-df-convert');\n",
              "        buttonEl.style.display =\n",
              "          google.colab.kernel.accessAllowed ? 'block' : 'none';\n",
              "\n",
              "        async function convertToInteractive(key) {\n",
              "          const element = document.querySelector('#df-300d12fc-ebcc-4cbc-b9d8-607dd47b8273');\n",
              "          const dataTable =\n",
              "            await google.colab.kernel.invokeFunction('convertToInteractive',\n",
              "                                                     [key], {});\n",
              "          if (!dataTable) return;\n",
              "\n",
              "          const docLinkHtml = 'Like what you see? Visit the ' +\n",
              "            '<a target=\"_blank\" href=https://colab.research.google.com/notebooks/data_table.ipynb>data table notebook</a>'\n",
              "            + ' to learn more about interactive tables.';\n",
              "          element.innerHTML = '';\n",
              "          dataTable['output_type'] = 'display_data';\n",
              "          await google.colab.output.renderOutput(dataTable, element);\n",
              "          const docLink = document.createElement('div');\n",
              "          docLink.innerHTML = docLinkHtml;\n",
              "          element.appendChild(docLink);\n",
              "        }\n",
              "      </script>\n",
              "    </div>\n",
              "  </div>\n",
              "  "
            ]
          },
          "metadata": {},
          "execution_count": 17
        }
      ]
    },
    {
      "cell_type": "code",
      "source": [
        "data.shape"
      ],
      "metadata": {
        "id": "iPALAy0K2OfL",
        "colab": {
          "base_uri": "https://localhost:8080/"
        },
        "outputId": "3352b89b-e80c-4293-8098-abf4a0e34216"
      },
      "execution_count": 18,
      "outputs": [
        {
          "output_type": "execute_result",
          "data": {
            "text/plain": [
              "(3148, 21)"
            ]
          },
          "metadata": {},
          "execution_count": 18
        }
      ]
    },
    {
      "cell_type": "markdown",
      "source": [
        "#preparing the data for ml model"
      ],
      "metadata": {
        "id": "Vu-80dTzaFEK"
      }
    },
    {
      "cell_type": "code",
      "source": [
        "# machine learning required libraries \n",
        "from sklearn.model_selection import train_test_split\n",
        "from sklearn.linear_model import LogisticRegression\n",
        "from sklearn.svm import SVC\n",
        "from sklearn.tree import DecisionTreeClassifier\n",
        "from sklearn.ensemble import RandomForestClassifier\n",
        "from sklearn.model_selection import RandomizedSearchCV\n",
        "from sklearn.metrics import confusion_matrix, classification_report, accuracy_score"
      ],
      "metadata": {
        "id": "ciEfIvaxauX7"
      },
      "execution_count": 20,
      "outputs": []
    },
    {
      "cell_type": "code",
      "source": [
        "# input data \n",
        "x = data.drop('pred',axis=1)\n",
        "# output data\n",
        "y= data['pred']\n"
      ],
      "metadata": {
        "id": "5P5Cgjxl2OdP"
      },
      "execution_count": 19,
      "outputs": []
    },
    {
      "cell_type": "code",
      "source": [
        "# split the data into training and testing using train_test_split function \n",
        "X_train ,X_test,y_train,y_test= train_test_split(x,y,test_size=.2,random_state=21) "
      ],
      "metadata": {
        "id": "w7JjT6PA19Jw"
      },
      "execution_count": 21,
      "outputs": []
    },
    {
      "cell_type": "code",
      "source": [
        "print('Training data',X_train.shape)\n",
        "print(\"testing data\",X_test.shape)"
      ],
      "metadata": {
        "colab": {
          "base_uri": "https://localhost:8080/"
        },
        "id": "Wu5qI-bNbUKh",
        "outputId": "2110fc65-99ff-4aa4-dae9-b73db254b3d9"
      },
      "execution_count": 22,
      "outputs": [
        {
          "output_type": "stream",
          "name": "stdout",
          "text": [
            "Training data (2518, 20)\n",
            "testing data (630, 20)\n"
          ]
        }
      ]
    },
    {
      "cell_type": "markdown",
      "source": [
        "# Logistic Regression with hyperparmeter tunning and cross validation "
      ],
      "metadata": {
        "id": "UGRDRV0Ebr1q"
      }
    },
    {
      "cell_type": "markdown",
      "source": [
        "## Model training"
      ],
      "metadata": {
        "id": "Zw1BrnuweFUn"
      }
    },
    {
      "cell_type": "code",
      "source": [
        "# define the parameter\n",
        "parameters={'max_iter':[100,200,500]}\n",
        "# initialize the model \n",
        "lr_classifier=LogisticRegression()\n",
        "\n",
        "# initialise Hyperparameter tuning and Cross validation\n",
        "\n",
        "lr_classifier_rs= RandomizedSearchCV(estimator=lr_classifier, param_distributions=parameters , cv=5 , random_state=21,verbose=1)\n"
      ],
      "metadata": {
        "id": "WAGJEA90bjEU"
      },
      "execution_count": 24,
      "outputs": []
    },
    {
      "cell_type": "code",
      "source": [
        "# train the model \n",
        "lr_classifier_rs.fit(X_train,y_train)"
      ],
      "metadata": {
        "colab": {
          "base_uri": "https://localhost:8080/"
        },
        "id": "BOLgMIyYc1zW",
        "outputId": "5b888420-79ee-42d2-a644-a9e1e4bc23b4"
      },
      "execution_count": 25,
      "outputs": [
        {
          "output_type": "stream",
          "name": "stdout",
          "text": [
            "Fitting 5 folds for each of 3 candidates, totalling 15 fits\n"
          ]
        },
        {
          "output_type": "execute_result",
          "data": {
            "text/plain": [
              "RandomizedSearchCV(cv=5, estimator=LogisticRegression(),\n",
              "                   param_distributions={'max_iter': [100, 200, 500]},\n",
              "                   random_state=21, verbose=1)"
            ]
          },
          "metadata": {},
          "execution_count": 25
        }
      ]
    },
    {
      "cell_type": "code",
      "source": [
        "# get best parameteres \n",
        "def get_best_parameters_result(model):\n",
        "  print('Best estimator ', model.best_estimator_)\n",
        "  print('Best set of parameter', model.best_params_)\n",
        "  print('Best score',model.best_score_)"
      ],
      "metadata": {
        "id": "VdDnLCECdHcT"
      },
      "execution_count": 26,
      "outputs": []
    },
    {
      "cell_type": "code",
      "source": [
        "# get the best random search attributes\n",
        "get_best_parameters_result(lr_classifier_rs)"
      ],
      "metadata": {
        "colab": {
          "base_uri": "https://localhost:8080/"
        },
        "id": "MehvMV3Sd1AF",
        "outputId": "08eef4ed-9535-4be2-a865-cfd45273070b"
      },
      "execution_count": 27,
      "outputs": [
        {
          "output_type": "stream",
          "name": "stdout",
          "text": [
            "Best estimator  LogisticRegression()\n",
            "Best set of parameter {'max_iter': 100}\n",
            "Best score 0.5734647669538325\n"
          ]
        }
      ]
    },
    {
      "cell_type": "markdown",
      "source": [
        "## model prediction"
      ],
      "metadata": {
        "id": "mBSbqAgteMHz"
      }
    },
    {
      "cell_type": "code",
      "source": [
        "y_pred_lr=lr_classifier_rs.predict(X_test)"
      ],
      "metadata": {
        "id": "5ADrpDTud-W_"
      },
      "execution_count": 28,
      "outputs": []
    },
    {
      "cell_type": "markdown",
      "source": [
        "## model evaluation "
      ],
      "metadata": {
        "id": "9Ghd3ceLeiBe"
      }
    },
    {
      "cell_type": "code",
      "source": [
        "lr_accuracy=accuracy_score(y_true=y_test,y_pred=y_pred_lr)\n",
        "print('Accuracy using logistic regression ',lr_accuracy)"
      ],
      "metadata": {
        "colab": {
          "base_uri": "https://localhost:8080/"
        },
        "id": "7Ipb0bWaece0",
        "outputId": "1169ecb7-5805-4a80-93eb-0e5146826b16"
      },
      "execution_count": 30,
      "outputs": [
        {
          "output_type": "stream",
          "name": "stdout",
          "text": [
            "Accuracy using logistic regression  0.5507936507936508\n"
          ]
        }
      ]
    },
    {
      "cell_type": "code",
      "source": [
        "# function to plot confusion matrix\n",
        "def plot_confusion_matrix(cm,labels):\n",
        "    fig, ax = plt.subplots(figsize=(6,4))\n",
        "    im = ax.imshow(cm, interpolation = 'nearest', cmap = plt.cm.Blues)\n",
        "    ax.figure.colorbar(im, ax = ax)\n",
        "    \n",
        "    ax.set(xticks = np.arange(cm.shape[1]),\n",
        "    yticks=np.arange(cm.shape[0]),\n",
        "    xticklabels=labels, yticklabels=labels,\n",
        "    ylabel='True label',\n",
        "    xlabel='Predicted label')\n",
        "    \n",
        "    thresh = cm.max() / 2.\n",
        "    \n",
        "    for i in range(cm.shape[0]):\n",
        "        for j in range(cm.shape[1]):\n",
        "            ax.text(j, i, int(cm[i, j]),ha=\"center\", va=\"center\",color=\"white\" if cm[i, j] > thresh else \"black\")\n",
        "    \n",
        "    fig.tight_layout()"
      ],
      "metadata": {
        "id": "eOZuQqxffFHr"
      },
      "execution_count": 31,
      "outputs": []
    },
    {
      "cell_type": "code",
      "source": [
        "cm = confusion_matrix(y_test.values,y_pred_lr)\n",
        "cm"
      ],
      "metadata": {
        "colab": {
          "base_uri": "https://localhost:8080/"
        },
        "id": "FggrJ0awfaCJ",
        "outputId": "bec63853-704a-4de6-e57c-eca8fc00f931"
      },
      "execution_count": 32,
      "outputs": [
        {
          "output_type": "execute_result",
          "data": {
            "text/plain": [
              "array([[ 46, 215],\n",
              "       [ 68, 301]])"
            ]
          },
          "metadata": {},
          "execution_count": 32
        }
      ]
    },
    {
      "cell_type": "code",
      "source": [
        "# cm = confusion_matrix(y_test.values,y_pred_lr)\n",
        "plot_confusion_matrix(cm, np.unique(y_pred_lr))"
      ],
      "metadata": {
        "colab": {
          "base_uri": "https://localhost:8080/",
          "height": 297
        },
        "id": "t8urwEsXfe5F",
        "outputId": "a78c0ba1-2215-4c63-c054-93344f8b6fc9"
      },
      "execution_count": 33,
      "outputs": [
        {
          "output_type": "display_data",
          "data": {
            "text/plain": [
              "<Figure size 432x288 with 2 Axes>"
            ],
            "image/png": "[encoded data removed]"
          },
          "metadata": {
            "needs_background": "light"
          }
        }
      ]
    },
    {
      "cell_type": "markdown",
      "source": [
        "# SVM with hyperparameter and crossvalidation "
      ],
      "metadata": {
        "id": "jFfq9zeNf0-O"
      }
    },
    {
      "cell_type": "code",
      "source": [
        "parameters = {\n",
        "    'kernel': ['rbf', 'poly', 'sigmoid'],\n",
        "    'C':[1.0, 2.0]\n",
        "}\n",
        "\n",
        "svm_rs = RandomizedSearchCV(estimator = SVC(), param_distributions=parameters, cv = 5, random_state = 42, verbose = 1)"
      ],
      "metadata": {
        "id": "lRxjWQH-fz0d"
      },
      "execution_count": 34,
      "outputs": []
    },
    {
      "cell_type": "code",
      "source": [
        "svm_rs.fit(X_train, y_train)"
      ],
      "metadata": {
        "colab": {
          "base_uri": "https://localhost:8080/"
        },
        "id": "llKMeJeyfzyx",
        "outputId": "f0856d80-1669-4ccc-b9e1-1d174eea23ed"
      },
      "execution_count": 35,
      "outputs": [
        {
          "output_type": "stream",
          "name": "stdout",
          "text": [
            "Fitting 5 folds for each of 6 candidates, totalling 30 fits\n"
          ]
        },
        {
          "output_type": "execute_result",
          "data": {
            "text/plain": [
              "RandomizedSearchCV(cv=5, estimator=SVC(),\n",
              "                   param_distributions={'C': [1.0, 2.0],\n",
              "                                        'kernel': ['rbf', 'poly', 'sigmoid']},\n",
              "                   random_state=42, verbose=1)"
            ]
          },
          "metadata": {},
          "execution_count": 35
        }
      ]
    },
    {
      "cell_type": "code",
      "source": [
        "# get the best random search attributes\n",
        "get_best_parameters_result(svm_rs)"
      ],
      "metadata": {
        "colab": {
          "base_uri": "https://localhost:8080/"
        },
        "id": "Hj30gx8Ufzw_",
        "outputId": "4985190e-bbb5-49bb-dd39-c4239510e443"
      },
      "execution_count": 37,
      "outputs": [
        {
          "output_type": "stream",
          "name": "stdout",
          "text": [
            "Best estimator  SVC(C=2.0)\n",
            "Best set of parameter {'kernel': 'rbf', 'C': 2.0}\n",
            "Best score 0.6247010003471236\n"
          ]
        }
      ]
    },
    {
      "cell_type": "markdown",
      "source": [
        "## model prediction "
      ],
      "metadata": {
        "id": "QAkWfrzdgxof"
      }
    },
    {
      "cell_type": "code",
      "source": [
        "y_pred_svm = svm_rs.predict(X_test)"
      ],
      "metadata": {
        "id": "a0ObYwG1fzvS"
      },
      "execution_count": 38,
      "outputs": []
    },
    {
      "cell_type": "markdown",
      "source": [
        "## model evaluation "
      ],
      "metadata": {
        "id": "XsdAxErJg2UW"
      }
    },
    {
      "cell_type": "code",
      "source": [
        "svm_accuracy = accuracy_score(y_true=y_test, y_pred=y_pred_svm)\n",
        "print(\"Accuracy using Kernel SVM : \", svm_accuracy)"
      ],
      "metadata": {
        "colab": {
          "base_uri": "https://localhost:8080/"
        },
        "id": "1Ry8kus-fztY",
        "outputId": "367d6e47-7527-40ae-f174-34488c4fa389"
      },
      "execution_count": 39,
      "outputs": [
        {
          "output_type": "stream",
          "name": "stdout",
          "text": [
            "Accuracy using Kernel SVM :  0.6492063492063492\n"
          ]
        }
      ]
    },
    {
      "cell_type": "code",
      "source": [
        "cm = confusion_matrix(y_test.values, y_pred_svm)\n",
        "cm"
      ],
      "metadata": {
        "colab": {
          "base_uri": "https://localhost:8080/"
        },
        "id": "Z2iupQ9dfzrY",
        "outputId": "a28306ee-6498-474f-ba1d-8589ca176fc7"
      },
      "execution_count": 40,
      "outputs": [
        {
          "output_type": "execute_result",
          "data": {
            "text/plain": [
              "array([[138, 123],\n",
              "       [ 98, 271]])"
            ]
          },
          "metadata": {},
          "execution_count": 40
        }
      ]
    },
    {
      "cell_type": "code",
      "source": [
        "# cm = confusion_matrix(y_test.values,y_pred_lr)\n",
        "plot_confusion_matrix(cm, np.unique(y_pred_lr))"
      ],
      "metadata": {
        "colab": {
          "base_uri": "https://localhost:8080/",
          "height": 297
        },
        "id": "f_cDfOpWfzph",
        "outputId": "7fc3a71c-efb5-426a-cb3e-081499cea907"
      },
      "execution_count": 41,
      "outputs": [
        {
          "output_type": "display_data",
          "data": {
            "text/plain": [
              "<Figure size 432x288 with 2 Axes>"
            ],
            "image/png": "[encoded data removed]"
          },
          "metadata": {
            "needs_background": "light"
          }
        }
      ]
    },
    {
      "cell_type": "markdown",
      "source": [
        "#Decision Tree with hyperparameter and cross validation "
      ],
      "metadata": {
        "id": "61RUxURwhTD3"
      }
    },
    {
      "cell_type": "markdown",
      "source": [
        "## model Training "
      ],
      "metadata": {
        "id": "OyuAVp-3hnDR"
      }
    },
    {
      "cell_type": "code",
      "source": [
        "parameters = {'max_depth': np.arange(2, 20, 2)}\n",
        "\n",
        "dt_classifier = DecisionTreeClassifier()\n",
        "dt_classifier_rs = RandomizedSearchCV(dt_classifier, param_distributions = parameters, random_state = 42, cv = 5, verbose = 1)\n",
        "dt_classifier_rs.fit(X_train, y_train)"
      ],
      "metadata": {
        "colab": {
          "base_uri": "https://localhost:8080/"
        },
        "id": "rGo3KO5Jfzn0",
        "outputId": "85501ce4-256c-4b05-aca6-e37cfe0d1f61"
      },
      "execution_count": 42,
      "outputs": [
        {
          "output_type": "stream",
          "name": "stdout",
          "text": [
            "Fitting 5 folds for each of 9 candidates, totalling 45 fits\n"
          ]
        },
        {
          "output_type": "execute_result",
          "data": {
            "text/plain": [
              "RandomizedSearchCV(cv=5, estimator=DecisionTreeClassifier(),\n",
              "                   param_distributions={'max_depth': array([ 2,  4,  6,  8, 10, 12, 14, 16, 18])},\n",
              "                   random_state=42, verbose=1)"
            ]
          },
          "metadata": {},
          "execution_count": 42
        }
      ]
    },
    {
      "cell_type": "markdown",
      "source": [
        "## model prediction "
      ],
      "metadata": {
        "id": "M6TC8lUShsgH"
      }
    },
    {
      "cell_type": "code",
      "source": [
        "y_pred_dt = dt_classifier_rs.predict(X_test)"
      ],
      "metadata": {
        "id": "3FzISjQLfzlT"
      },
      "execution_count": 43,
      "outputs": []
    },
    {
      "cell_type": "markdown",
      "source": [
        "## model evaluation "
      ],
      "metadata": {
        "id": "LUaiWupWh2BS"
      }
    },
    {
      "cell_type": "code",
      "source": [
        "dt_accuracy = accuracy_score(y_true=y_test, y_pred=y_pred_dt)\n",
        "print(\"Accuracy using Decision tree : \", dt_accuracy)"
      ],
      "metadata": {
        "colab": {
          "base_uri": "https://localhost:8080/"
        },
        "id": "SnM0Qq5qfziA",
        "outputId": "7f43a2d5-983c-42e5-f18d-e9cd8003e3a2"
      },
      "execution_count": 44,
      "outputs": [
        {
          "output_type": "stream",
          "name": "stdout",
          "text": [
            "Accuracy using Decision tree :  0.8650793650793651\n"
          ]
        }
      ]
    },
    {
      "cell_type": "code",
      "source": [
        "cm = confusion_matrix(y_test.values,y_pred_dt)\n",
        "plot_confusion_matrix(cm, np.unique(y_pred_dt))"
      ],
      "metadata": {
        "colab": {
          "base_uri": "https://localhost:8080/",
          "height": 297
        },
        "id": "IsqREPgifzet",
        "outputId": "a5e10780-04bf-4dc5-e0a2-7e4634d40e7b"
      },
      "execution_count": 47,
      "outputs": [
        {
          "output_type": "display_data",
          "data": {
            "text/plain": [
              "<Figure size 432x288 with 2 Axes>"
            ],
            "image/png": "[encoded data removed]"
          },
          "metadata": {
            "needs_background": "light"
          }
        }
      ]
    },
    {
      "cell_type": "markdown",
      "source": [
        "# Random forest with Hyper parameter and cross validation "
      ],
      "metadata": {
        "id": "mPF8Otx5iayy"
      }
    },
    {
      "cell_type": "markdown",
      "source": [
        "## model Training "
      ],
      "metadata": {
        "id": "2VtI83LsisYM"
      }
    },
    {
      "cell_type": "code",
      "source": [
        "parameters = {\n",
        "    'n_estimators':[110,130,140,150,160,180,200], \n",
        "    'max_depth': np.arange(2, 17, 2)\n",
        "}\n",
        "rf_classifier = RandomForestClassifier()\n",
        "rf_classifier_rs = RandomizedSearchCV(rf_classifier, param_distributions=parameters,random_state = 42, verbose = 1, cv = 5)\n",
        "rf_classifier_rs.fit(X_train, y_train)"
      ],
      "metadata": {
        "colab": {
          "base_uri": "https://localhost:8080/"
        },
        "id": "WEKbUiV4fzdE",
        "outputId": "db76ce47-f06e-4f3d-f399-eff7f983d816"
      },
      "execution_count": 48,
      "outputs": [
        {
          "output_type": "stream",
          "name": "stdout",
          "text": [
            "Fitting 5 folds for each of 10 candidates, totalling 50 fits\n"
          ]
        },
        {
          "output_type": "execute_result",
          "data": {
            "text/plain": [
              "RandomizedSearchCV(cv=5, estimator=RandomForestClassifier(),\n",
              "                   param_distributions={'max_depth': array([ 2,  4,  6,  8, 10, 12, 14, 16]),\n",
              "                                        'n_estimators': [110, 130, 140, 150,\n",
              "                                                         160, 180, 200]},\n",
              "                   random_state=42, verbose=1)"
            ]
          },
          "metadata": {},
          "execution_count": 48
        }
      ]
    },
    {
      "cell_type": "markdown",
      "source": [
        "## model prediction "
      ],
      "metadata": {
        "id": "7LHQ1dmijL4r"
      }
    },
    {
      "cell_type": "code",
      "source": [
        "y_pred = rf_classifier_rs.predict(X_test)"
      ],
      "metadata": {
        "id": "SCJjvOM-fzZI"
      },
      "execution_count": 49,
      "outputs": []
    },
    {
      "cell_type": "markdown",
      "source": [
        "## model evaluation "
      ],
      "metadata": {
        "id": "L0p6JtIRjReK"
      }
    },
    {
      "cell_type": "code",
      "source": [
        "rf_accuracy = accuracy_score(y_true=y_test, y_pred=y_pred)\n",
        "print(\"Accuracy using Random forest : \", rf_accuracy)"
      ],
      "metadata": {
        "colab": {
          "base_uri": "https://localhost:8080/"
        },
        "id": "_5A2bzUnfqTM",
        "outputId": "11054a3e-1f08-4c86-dfb7-45ba70b72de4"
      },
      "execution_count": 50,
      "outputs": [
        {
          "output_type": "stream",
          "name": "stdout",
          "text": [
            "Accuracy using Random forest :  0.9206349206349206\n"
          ]
        }
      ]
    },
    {
      "cell_type": "code",
      "source": [
        "cm = confusion_matrix(y_test.values,y_pred)\n",
        "plot_confusion_matrix(cm, np.unique(y_pred))"
      ],
      "metadata": {
        "colab": {
          "base_uri": "https://localhost:8080/",
          "height": 297
        },
        "id": "0LaEaBX-jXVP",
        "outputId": "a628426e-3a0d-48fc-8162-bc4a3c8a1fc3"
      },
      "execution_count": 51,
      "outputs": [
        {
          "output_type": "display_data",
          "data": {
            "text/plain": [
              "<Figure size 432x288 with 2 Axes>"
            ],
            "image/png": "[encoded data removed]"
          },
          "metadata": {
            "needs_background": "light"
          }
        }
      ]
    },
    {
      "cell_type": "markdown",
      "source": [
        "# Compare the model perfomance "
      ],
      "metadata": {
        "id": "o-IN0_Ucjjky"
      }
    },
    {
      "cell_type": "code",
      "source": [
        "model_results = {\n",
        "    'LR': lr_accuracy,\n",
        "    'SVM': svm_accuracy,\n",
        "    'DT': dt_accuracy,\n",
        "    'RF': rf_accuracy\n",
        "}"
      ],
      "metadata": {
        "id": "KPJIzPqYji3y"
      },
      "execution_count": 52,
      "outputs": []
    },
    {
      "cell_type": "code",
      "source": [
        "plt.bar(range(len(model_results)), model_results.values(), align='center')\n",
        "plt.xticks(range(len(model_results)), list(model_results.keys()))\n",
        "plt.ylabel(\"Model Accuracy\")\n",
        "plt.xlabel(\"Model\")\n",
        "plt.show()"
      ],
      "metadata": {
        "colab": {
          "base_uri": "https://localhost:8080/",
          "height": 279
        },
        "id": "Ws-n_jD9ji1s",
        "outputId": "f10821ef-a1fb-4a30-9ace-4b90aa4c5f1e"
      },
      "execution_count": 53,
      "outputs": [
        {
          "output_type": "display_data",
          "data": {
            "text/plain": [
              "<Figure size 432x288 with 1 Axes>"
            ],
            "image/png": "[encoded data removed]"
          },
          "metadata": {
            "needs_background": "light"
          }
        }
      ]
    }
  ]
}